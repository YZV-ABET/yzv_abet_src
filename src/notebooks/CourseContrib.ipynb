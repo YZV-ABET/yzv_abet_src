{
  "cells": [
    {
      "cell_type": "code",
      "execution_count": null,
      "metadata": {
        "id": "4nSfXP1pDORz",
        "outputId": "e4d0ac85-3864-48c0-b6b2-de652e5e1346"
      },
      "outputs": [
        {
          "name": "stdout",
          "output_type": "stream",
          "text": [
            "Collecting git+https://github.com/bengisug/yzv_abet_src@main\n",
            "  Cloning https://github.com/bengisug/yzv_abet_src (to revision main) to /private/var/folders/9l/7dn7hm996q90xx094fkln7380000gn/T/pip-req-build-tqt95ync\n",
            "Requirement already satisfied (use --upgrade to upgrade): yzv-abet==0.1 from git+https://github.com/bengisug/yzv_abet_src@main in /Users/bengisuguresti/YZV-ABET/yzv_abet_src\n",
            "Building wheels for collected packages: yzv-abet\n",
            "  Building wheel for yzv-abet (setup.py) ... \u001b[?25ldone\n",
            "\u001b[?25h  Created wheel for yzv-abet: filename=yzv_abet-0.1-py3-none-any.whl size=5011 sha256=1b849511b95e29e2eb8d8708bfb0d5bc3195c44556b93c0a1aa6110c5657f530\n",
            "  Stored in directory: /private/var/folders/9l/7dn7hm996q90xx094fkln7380000gn/T/pip-ephem-wheel-cache-8wqm3mwo/wheels/25/29/0c/85183a70743c741db0f76e14cbb1e5a4e904c9ecd280b546af\n",
            "Successfully built yzv-abet\n"
          ]
        }
      ],
      "source": [
        "!pip3 install git+https://github.com/bengisug/yzv_abet_src@main"
      ]
    },
    {
      "cell_type": "code",
      "execution_count": 8,
      "metadata": {
        "id": "GRvjpUtFDOR1",
        "colab": {
          "base_uri": "https://localhost:8080/"
        },
        "outputId": "77f75a3b-ee76-4798-e906-42f69aa32f23"
      },
      "outputs": [
        {
          "output_type": "stream",
          "name": "stdout",
          "text": [
            "The autoreload extension is already loaded. To reload it, use:\n",
            "  %reload_ext autoreload\n"
          ]
        }
      ],
      "source": [
        "from ipywidgets import interactive\n",
        "from src.parsers.parser import *\n",
        "from src.widgets.my_widgets import *\n",
        "from src.plots.my_plt import *\n",
        "%matplotlib inline\n",
        "%load_ext autoreload\n",
        "%autoreload 2"
      ]
    },
    {
      "cell_type": "markdown",
      "source": [
        "### 0. Course Contribution Heatmaps"
      ],
      "metadata": {
        "id": "c14caA1S_Qum"
      }
    },
    {
      "cell_type": "code",
      "source": [
        "interactive(plot_contrib_heatmap, filter_choice=full_contrib_filter, mandatory=mandatory_filter, termplan_choice=termplan_widget)"
      ],
      "metadata": {
        "id": "bec8_PHokEin"
      },
      "execution_count": null,
      "outputs": []
    },
    {
      "cell_type": "markdown",
      "metadata": {
        "id": "XTFzr2ieDOR2"
      },
      "source": [
        "### 1. Average of Contributions of Courses per Course"
      ]
    },
    {
      "cell_type": "code",
      "execution_count": null,
      "metadata": {
        "scrolled": false,
        "tags": [],
        "id": "foE62C4JDOR3"
      },
      "outputs": [],
      "source": [
        "interactive(average_course_contribution, choice=dist_widget, filter_choice=full_contrib_filter)"
      ]
    },
    {
      "cell_type": "markdown",
      "metadata": {
        "id": "avohZcGKDOR4"
      },
      "source": [
        "### 2. Number of Contributions of Level 1-2-3 per Course"
      ]
    },
    {
      "cell_type": "code",
      "execution_count": null,
      "metadata": {
        "id": "dfvyZZfBDOR4"
      },
      "outputs": [],
      "source": [
        "interactive(contrib_dist_percourse, course=course_widget)"
      ]
    },
    {
      "cell_type": "markdown",
      "metadata": {
        "id": "l226ulg7DOR4"
      },
      "source": [
        "### 3. Number of Courses that Uses a Specific PI"
      ]
    },
    {
      "cell_type": "code",
      "execution_count": null,
      "metadata": {
        "id": "_aYZPK7jDOR5"
      },
      "outputs": [],
      "source": [
        "interactive(course_pi_usage, filter_choice=full_contrib_filter, mandatory=mandatory_filter, termplan_choice=termplan_widget)"
      ]
    },
    {
      "cell_type": "markdown",
      "metadata": {
        "id": "l_ch_eOpDOR5"
      },
      "source": [
        "### 4. Number of Contributions of Level 1-2-3 per PI"
      ]
    },
    {
      "cell_type": "code",
      "execution_count": null,
      "metadata": {
        "id": "8v5eMsyZDOR6"
      },
      "outputs": [],
      "source": [
        "interactive(contrib_dist_perpi, pi=subpi_widget, filter_choice=full_contrib_filter, mandatory=mandatory_filter)"
      ]
    },
    {
      "cell_type": "markdown",
      "metadata": {
        "id": "ZlxWpah2DOR6"
      },
      "source": [
        "### 5. Average of Contributions of Courses per PI"
      ]
    },
    {
      "cell_type": "code",
      "execution_count": null,
      "metadata": {
        "id": "4UFx__xnDOR6"
      },
      "outputs": [],
      "source": [
        "interactive(average_pi_contribution, filter_choice=full_contrib_filter, mandatory=mandatory_filter, termplan_choice=termplan_widget)"
      ]
    },
    {
      "cell_type": "markdown",
      "metadata": {
        "id": "ca75HGPZDOR7"
      },
      "source": [
        "### 6. PI Distribution Chart of Course - Pie Chart"
      ]
    },
    {
      "cell_type": "code",
      "execution_count": null,
      "metadata": {
        "id": "jiObzpTJDOR7"
      },
      "outputs": [],
      "source": [
        "interactive(pi_dist_pie, course=course_widget, filter_choice=full_contrib_filter)"
      ]
    },
    {
      "cell_type": "markdown",
      "metadata": {
        "id": "tXwFvBLXDOR7"
      },
      "source": [
        "### 7. PI Levels of Course"
      ]
    },
    {
      "cell_type": "code",
      "execution_count": null,
      "metadata": {
        "scrolled": false,
        "id": "a8cdilQ2DOR8"
      },
      "outputs": [],
      "source": [
        "interactive(pi_levels_percourse, course=course_widget)"
      ]
    },
    {
      "cell_type": "markdown",
      "metadata": {
        "id": "VrVA7kAqDOR8"
      },
      "source": [
        "### 8. Sum of PI Contributions of Courses"
      ]
    },
    {
      "cell_type": "code",
      "execution_count": null,
      "metadata": {
        "id": "bDVn3H5kDOR8"
      },
      "outputs": [],
      "source": [
        "interactive(total_course_pi, choice=dist_widget, filter_choice=full_contrib_filter)"
      ]
    },
    {
      "cell_type": "markdown",
      "metadata": {
        "id": "bmUdPpsZDOR9"
      },
      "source": [
        "### 9. PI Contribution Level Distribution of Courses - Filter by Course"
      ]
    },
    {
      "cell_type": "code",
      "execution_count": null,
      "metadata": {
        "id": "93GzVMM5DOR9"
      },
      "outputs": [],
      "source": [
        "interactive(pi_contr_level_dist, choice=dist_widget)"
      ]
    },
    {
      "cell_type": "markdown",
      "source": [
        "### 10. PI Contribution Level Distribution of Courses - Filter by Term"
      ],
      "metadata": {
        "id": "3_1b0IKr8tcy"
      }
    },
    {
      "cell_type": "code",
      "execution_count": null,
      "metadata": {
        "id": "EUqE92wMDOR-"
      },
      "outputs": [],
      "source": [
        "interactive(pi_contr_level_dist_perterm, mandatory=mandatory_filter, termplan_choice=termplan_widget)"
      ]
    },
    {
      "cell_type": "code",
      "source": [
        ""
      ],
      "metadata": {
        "id": "ytNE039N94Gm"
      },
      "execution_count": null,
      "outputs": []
    }
  ],
  "metadata": {
    "kernelspec": {
      "display_name": "Python 3",
      "language": "python",
      "name": "python3"
    },
    "language_info": {
      "codemirror_mode": {
        "name": "ipython",
        "version": 3
      },
      "file_extension": ".py",
      "mimetype": "text/x-python",
      "name": "python",
      "nbconvert_exporter": "python",
      "pygments_lexer": "ipython3",
      "version": "3.8.5"
    },
    "colab": {
      "name": "CourseContrib.ipynb",
      "provenance": [],
      "collapsed_sections": []
    }
  },
  "nbformat": 4,
  "nbformat_minor": 0
}